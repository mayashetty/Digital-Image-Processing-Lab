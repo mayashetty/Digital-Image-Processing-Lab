{
 "cells": [
  {
   "cell_type": "code",
   "execution_count": null,
   "metadata": {},
   "outputs": [],
   "source": [
    "import cv2\n",
    "import numpy as np\n",
    "\n",
    "image = cv2.imread('flower.jpg')\n",
    "image = cv2.resize(image, (0, 0), None, 1, 1)\n",
    "\n",
    "grey = cv2.cvtColor(image, cv2.COLOR_RGB2GRAY)\n",
    "grey_3_channel = cv2.cvtColor(grey, cv2.COLOR_GRAY2BGR)\n",
    "\n",
    "numpy_horizontal = np.hstack((image, grey_3_channel))\n",
    "numpy_horizontal_concat = np.concatenate((image, grey_3_channel), axis=1)\n",
    "\n",
    "cv2.imshow('FLOWER', numpy_horizontal_concat)\n",
    "cv2.waitKey()\n",
    "\n",
    "\n",
    "\n"
   ]
  },
  {
   "cell_type": "code",
   "execution_count": null,
   "metadata": {},
   "outputs": [],
   "source": [
    "import cv2\n",
    "import numpy as np\n",
    "FILE_NAME = 'img4.jpg'\n",
    "try: \n",
    "    img = cv2.imread(FILE_NAME) \n",
    "    (height, width) = img.shape[:2] \n",
    "    res = cv2.resize(img, (int(width / 2), int(height / 2)), interpolation = cv2.INTER_CUBIC) \n",
    "    cv2.imwrite('result.jpg', res) \n",
    "    cv2.imshow('image',img)\n",
    "    cv2.imshow('result',res)\n",
    "    cv2.waitKey(0)\n",
    "except IOError: \n",
    "    print ('Error while reading files !!!')\n",
    "    cv2.waitKey(0)\n",
    "    cv2.destroyAllWindows(0)\n",
    "\n"
   ]
  },
  {
   "cell_type": "code",
   "execution_count": null,
   "metadata": {},
   "outputs": [],
   "source": [
    "\n",
    "\n",
    "import cv2 \n",
    "import numpy as np \n",
    "\n",
    "FILE_NAME = 'flower.jpg'\n",
    "img = cv2.imread(FILE_NAME) \n",
    "(rows, cols) = img.shape[:2] \n",
    "M = cv2.getRotationMatrix2D((cols / 2, rows / 2), 45, 1) \n",
    "res = cv2.warpAffine(img, M, (cols, rows)) \n",
    "cv2.imshow('result.jpg', res) \n",
    "cv2.waitKey(0)\n",
    "\n"
   ]
  },
  {
   "cell_type": "code",
   "execution_count": null,
   "metadata": {},
   "outputs": [],
   "source": []
  }
 ],
 "metadata": {
  "kernelspec": {
   "display_name": "Python 3",
   "language": "python",
   "name": "python3"
  },
  "language_info": {
   "codemirror_mode": {
    "name": "ipython",
    "version": 3
   },
   "file_extension": ".py",
   "mimetype": "text/x-python",
   "name": "python",
   "nbconvert_exporter": "python",
   "pygments_lexer": "ipython3",
   "version": "3.7.4"
  }
 },
 "nbformat": 4,
 "nbformat_minor": 2
}
