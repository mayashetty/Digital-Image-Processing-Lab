{
 "cells": [
  {
   "cell_type": "code",
   "execution_count": 1,
   "metadata": {},
   "outputs": [
    {
     "name": "stderr",
     "output_type": "stream",
     "text": [
      "C:\\Users\\admin\\Anaconda3\\lib\\site-packages\\ipykernel_launcher.py:12: RuntimeWarning: divide by zero encountered in true_divide\n",
      "  if sys.path[0] == '':\n"
     ]
    },
    {
     "name": "stdout",
     "output_type": "stream",
     "text": [
      "sum of imgs(Total no) =  4\n"
     ]
    }
   ],
   "source": [
    "import cv2\n",
    "import os\n",
    "path=r'E:\\image'\n",
    "imgs=[]\n",
    "files=os.listdir(path) #List\n",
    "for file in files:\n",
    "    fpath=path+'\\\\'+file\n",
    "    imgs.append(cv2.imread(fpath))\n",
    "    \n",
    "for i,im in enumerate(imgs):\n",
    "    cv2.imshow(files[i],imgs[i])    \n",
    "    cv2.imshow('Mean of '+files[i],len(im)/im)\n",
    "print('sum of imgs(Total no) = ',i+1)    \n",
    "cv2.waitKey(0)\n",
    "cv2.destroyAllWindows()"
   ]
  },
  {
   "cell_type": "code",
   "execution_count": 5,
   "metadata": {},
   "outputs": [],
   "source": [
    "import cv2\n",
    "img = cv2.imread(\"img2.jpg\")\n",
    "gray=cv2.cvtColor(img,cv2.COLOR_BGR2GRAY)\n",
    "cv2.imshow(\"gray\",gray)\n",
    "cv2.waitKey(0)\n",
    "cv2.destroyAllWindows()\n",
    "ret, bw_img = cv2.threshold(img,127,255,cv2.THRESH_BINARY)\n",
    "cv2.imshow(\"Binary Image\",bw_img)\n",
    "cv2.waitKey(0)\n",
    "cv2.destroyAllWindows()\n"
   ]
  },
  {
   "cell_type": "code",
   "execution_count": 3,
   "metadata": {},
   "outputs": [],
   "source": [
    "cv2\n",
    "image=cv2.imread(\"img4.jpg\")\n",
    "cv2.imshow(\"old\",image)\n",
    "cv2.waitKey()\n",
    "hsv = cv2.cvtColor(image, cv2.COLOR_BGR2HSV)\n",
    "cv2.imshow(\"HSV\",hsv)\n",
    "cv2.waitKey(0)\n",
    "lab = cv2.cvtColor(image, cv2.COLOR_BGR2LAB)\n",
    "cv2.imshow(\"LAB\",lab)\n",
    "cv2.waitKey(0)\n",
    "hls = cv2.cvtColor(image, cv2.COLOR_BGR2HLS)\n",
    "cv2.imshow(\"HLS\",hls)\n",
    "cv2.waitKey(0)\n",
    "yuv = cv2.cvtColor(image, cv2.COLOR_BGR2YUV)\n",
    "cv2.imshow(\"YUV\",yuv)\n",
    "cv2.waitKey(0)\n",
    "cv2.destroyAllWindows()\n"
   ]
  },
  {
   "cell_type": "code",
   "execution_count": 6,
   "metadata": {},
   "outputs": [
    {
     "data": {
      "text/plain": [
       "-1"
      ]
     },
     "execution_count": 6,
     "metadata": {},
     "output_type": "execute_result"
    }
   ],
   "source": [
    "import numpy as np\n",
    "from PIL import Image\n",
    "import cv2 as c \n",
    "array = np.zeros([100, 200, 3], dtype=np.uint8)\n",
    "array[:,:100] = [150, 128, 0] #Orange left side\n",
    "array[:,100:] = [0, 0, 255]   #Blue right side\n",
    "img = Image.fromarray(array)\n",
    "img.save('img5.jpg')\n",
    "img.show()\n",
    "c.waitKey(0)\n"
   ]
  },
  {
   "cell_type": "code",
   "execution_count": null,
   "metadata": {},
   "outputs": [],
   "source": [
    "\n",
    "\n",
    "\n",
    "\n"
   ]
  },
  {
   "cell_type": "code",
   "execution_count": null,
   "metadata": {},
   "outputs": [],
   "source": []
  }
 ],
 "metadata": {
  "kernelspec": {
   "display_name": "Python 3",
   "language": "python",
   "name": "python3"
  },
  "language_info": {
   "codemirror_mode": {
    "name": "ipython",
    "version": 3
   },
   "file_extension": ".py",
   "mimetype": "text/x-python",
   "name": "python",
   "nbconvert_exporter": "python",
   "pygments_lexer": "ipython3",
   "version": "3.7.4"
  }
 },
 "nbformat": 4,
 "nbformat_minor": 2
}
